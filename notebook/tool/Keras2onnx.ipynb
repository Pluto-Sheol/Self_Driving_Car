{
  "cells": [
    {
      "cell_type": "code",
      "execution_count": null,
      "metadata": {
        "colab": {
          "base_uri": "https://localhost:8080/"
        },
        "id": "Jom7C0QCM5dp",
        "outputId": "c60750c3-2d1e-499a-9f1c-dd21c901e1eb"
      },
      "outputs": [
        {
          "name": "stdout",
          "output_type": "stream",
          "text": [
            "\u001b[33mWARNING: Skipping keras_applications as it is not installed.\u001b[0m\u001b[33m\n",
            "\u001b[0mLooking in indexes: https://pypi.org/simple, https://us-python.pkg.dev/colab-wheels/public/simple/\n",
            "Collecting keras_applications==1.0.4\n",
            "  Downloading Keras_Applications-1.0.4-py2.py3-none-any.whl (43 kB)\n",
            "\u001b[2K     \u001b[90m━━━━━━━━━━━━━━━━━━━━━━━━━━━━━━━━━━━━━━━━\u001b[0m \u001b[32m43.8/43.8 kB\u001b[0m \u001b[31m4.8 MB/s\u001b[0m eta \u001b[36m0:00:00\u001b[0m\n",
            "\u001b[?25hRequirement already satisfied: keras>=2.1.6 in /usr/local/lib/python3.10/dist-packages (from keras_applications==1.0.4) (2.12.0)\n",
            "Requirement already satisfied: numpy>=1.9.1 in /usr/local/lib/python3.10/dist-packages (from keras_applications==1.0.4) (1.22.4)\n",
            "Requirement already satisfied: h5py in /usr/local/lib/python3.10/dist-packages (from keras_applications==1.0.4) (3.8.0)\n",
            "Installing collected packages: keras_applications\n",
            "Successfully installed keras_applications-1.0.4\n"
          ]
        }
      ],
      "source": [
        "!pip uninstall keras_applications\n",
        "!pip install keras_applications==1.0.4"
      ]
    },
    {
      "cell_type": "code",
      "execution_count": null,
      "metadata": {
        "colab": {
          "base_uri": "https://localhost:8080/"
        },
        "id": "X8TfQBPYTHp_",
        "outputId": "a968c6be-d842-4be4-f716-8466fca3e838"
      },
      "outputs": [
        {
          "name": "stdout",
          "output_type": "stream",
          "text": [
            "/content\n"
          ]
        }
      ],
      "source": [
        "%cd /content"
      ]
    },
    {
      "cell_type": "code",
      "execution_count": null,
      "metadata": {
        "colab": {
          "base_uri": "https://localhost:8080/"
        },
        "id": "M0IGeM2DNAsq",
        "outputId": "0c1b53dc-fe5f-4398-936c-ce78cf327eec"
      },
      "outputs": [
        {
          "name": "stdout",
          "output_type": "stream",
          "text": [
            "/usr/local/lib/python3.10/dist-packages/gdown/cli.py:121: FutureWarning: Option `--id` was deprecated in version 4.3.1 and will be removed in 5.0. You don't need to pass it anymore to use a file ID.\n",
            "  warnings.warn(\n",
            "Downloading...\n",
            "From: https://drive.google.com/uc?id=1mRAGAWriXRZ2naDSP5dJ0C2xhEmFh-vi\n",
            "To: /content/Lane.h5\n",
            "100% 1.88M/1.88M [00:00<00:00, 64.4MB/s]\n"
          ]
        }
      ],
      "source": [
        "!gdown --id 1mRAGAWriXRZ2naDSP5dJ0C2xhEmFh-vi\n"
      ]
    },
    {
      "cell_type": "code",
      "execution_count": null,
      "metadata": {
        "id": "5ipS_RY4gYq3"
      },
      "outputs": [],
      "source": [
        "!pip install onnx\n",
        "!pip install tf2onnx"
      ]
    },
    {
      "cell_type": "code",
      "execution_count": null,
      "metadata": {
        "colab": {
          "base_uri": "https://localhost:8080/"
        },
        "id": "UZ_4F9pSPruC",
        "outputId": "cdedfb6b-93d2-426c-b3a7-02ec5e30aed2"
      },
      "outputs": [
        {
          "name": "stdout",
          "output_type": "stream",
          "text": [
            "Cloning into 'tensorflow-onnx'...\n",
            "remote: Enumerating objects: 15823, done.\u001b[K\n",
            "remote: Counting objects: 100% (22/22), done.\u001b[K\n",
            "remote: Compressing objects: 100% (17/17), done.\u001b[K\n",
            "remote: Total 15823 (delta 8), reused 10 (delta 5), pack-reused 15801\u001b[K\n",
            "Receiving objects: 100% (15823/15823), 26.75 MiB | 30.10 MiB/s, done.\n",
            "Resolving deltas: 100% (12018/12018), done.\n"
          ]
        }
      ],
      "source": [
        "!git clone https://github.com/onnx/tensorflow-onnx"
      ]
    },
    {
      "cell_type": "code",
      "execution_count": null,
      "metadata": {
        "id": "tkuMaiG9Pvb5"
      },
      "outputs": [],
      "source": [
        "%cd /content/tensorflow-onnx\n",
        "!python setup.py install"
      ]
    },
    {
      "cell_type": "code",
      "execution_count": null,
      "metadata": {
        "id": "Jqj6pTp4hzne"
      },
      "outputs": [],
      "source": [
        "!pip uninstall -y onnx\n",
        "!pip install onnx>=1.9.0\n",
        "!pip install keras2onnx\n",
        "!pip install onnxruntime"
      ]
    },
    {
      "cell_type": "code",
      "execution_count": null,
      "metadata": {
        "id": "GGW_ZbXAhOc2"
      },
      "outputs": [],
      "source": [
        "import keras2onnx"
      ]
    },
    {
      "cell_type": "code",
      "execution_count": null,
      "metadata": {
        "colab": {
          "background_save": true
        },
        "id": "FRq973sDKMd-",
        "outputId": "c2cd1c0b-568e-421a-c1fe-000be9020cc2"
      },
      "outputs": [
        {
          "name": "stdout",
          "output_type": "stream",
          "text": [
            "Mounted at /content/drive\n"
          ]
        }
      ],
      "source": [
        "from google.colab import drive\n",
        "drive.mount('/content/drive')"
      ]
    },
    {
      "cell_type": "code",
      "execution_count": null,
      "metadata": {
        "id": "Rq_xdUgCiHxJ"
      },
      "outputs": [],
      "source": [
        "%cd /content"
      ]
    },
    {
      "cell_type": "code",
      "execution_count": null,
      "metadata": {
        "id": "lYibIBU_Mr88"
      },
      "outputs": [],
      "source": [
        "from tensorflow.keras.models import load_model\n",
        "# import keras2onnx\n",
        "import tensorflow as tf\n",
        "import tf2onnx\n",
        "import onnx\n",
        "\n",
        "model = load_model('/content/model-100.h5')\n",
        "input_signature = [tf.TensorSpec([None,80,240, 3], tf.float32, name='x')]\n",
        "onnx_model,_ = tf2onnx.convert.from_keras(model,input_signature, opset=13)\n",
        "onnx.save_model(onnx_model,'/content/Lane_02.onnx')"
      ]
    },
    {
      "cell_type": "code",
      "execution_count": null,
      "metadata": {
        "id": "GAz258rBPyTS"
      },
      "outputs": [],
      "source": [
        "!pip install onnxmltools"
      ]
    }
  ],
  "metadata": {
    "colab": {
      "provenance": []
    },
    "gpuClass": "standard",
    "kernelspec": {
      "display_name": "Python 3",
      "name": "python3"
    },
    "language_info": {
      "name": "python"
    }
  },
  "nbformat": 4,
  "nbformat_minor": 0
}