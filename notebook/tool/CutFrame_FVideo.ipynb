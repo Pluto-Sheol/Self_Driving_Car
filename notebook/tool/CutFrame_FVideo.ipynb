{
  "nbformat": 4,
  "nbformat_minor": 0,
  "metadata": {
    "colab": {
      "provenance": [],
      "gpuType": "T4"
    },
    "kernelspec": {
      "name": "python3",
      "display_name": "Python 3"
    },
    "language_info": {
      "name": "python"
    },
    "accelerator": "GPU"
  },
  "cells": [
    {
      "cell_type": "code",
      "execution_count": null,
      "metadata": {
        "id": "uv4A2j47opKh"
      },
      "outputs": [],
      "source": [
        "import cv2\n",
        "video_path = '/content/drive/MyDrive/Dataset/Yolo/Data_02.mp4'  # Replace with the actual path to your video file\n",
        "cap = cv2.VideoCapture(video_path)"
      ]
    },
    {
      "cell_type": "code",
      "source": [
        "%rm -rf /content/Data_02\n",
        "%mkdir /content/Data_02\n",
        "%cd /content/Data_02"
      ],
      "metadata": {
        "colab": {
          "base_uri": "https://localhost:8080/"
        },
        "id": "198lFod8uzxX",
        "outputId": "e033d80c-209e-4bbd-adf9-bbb985dfa8e8"
      },
      "execution_count": null,
      "outputs": [
        {
          "output_type": "stream",
          "name": "stdout",
          "text": [
            "shell-init: error retrieving current directory: getcwd: cannot access parent directories: No such file or directory\n",
            "/content/Data_02\n"
          ]
        }
      ]
    },
    {
      "cell_type": "code",
      "source": [
        "ret, frame = cap.read()\n",
        "index = 0\n",
        "step = 1\n",
        "i = 0\n",
        "while ret:\n",
        "\n",
        "    ret, frame = cap.read()\n",
        "\n",
        "    # Save the frame as an image after 10 frame\n",
        "    if i % 7 == 0:\n",
        "      frame_path = f'/content/Data_02/img_{step}_{index}.jpg'  # Replace with the desired path to save the frame\n",
        "      cv2.imwrite(frame_path, frame)\n",
        "      index += 1\n",
        "    i += 1"
      ],
      "metadata": {
        "id": "cuAAXG6btdnw"
      },
      "execution_count": null,
      "outputs": []
    },
    {
      "cell_type": "code",
      "source": [
        "print(\"Quantities of IMG: {}\".format(index))"
      ],
      "metadata": {
        "colab": {
          "base_uri": "https://localhost:8080/"
        },
        "id": "wv4BWJn3vOYY",
        "outputId": "dc720418-df41-40e1-8cc1-c999373bfa5a"
      },
      "execution_count": null,
      "outputs": [
        {
          "output_type": "stream",
          "name": "stdout",
          "text": [
            "Quantities of IMG: 1607\n"
          ]
        }
      ]
    }
  ]
}