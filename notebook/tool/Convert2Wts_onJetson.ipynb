{
  "cells": [
    {
      "cell_type": "code",
      "execution_count": null,
      "metadata": {
        "colab": {
          "base_uri": "https://localhost:8080/"
        },
        "id": "VzE8_TwmvE6J",
        "outputId": "134cee4a-2304-44f1-bd04-9adca6faf164"
      },
      "outputs": [
        {
          "name": "stdout",
          "output_type": "stream",
          "text": [
            "Cloning into 'JetsonYolov5'...\n",
            "remote: Enumerating objects: 285, done.\u001b[K\n",
            "remote: Counting objects: 100% (107/107), done.\u001b[K\n",
            "remote: Compressing objects: 100% (80/80), done.\u001b[K\n",
            "remote: Total 285 (delta 46), reused 79 (delta 24), pack-reused 178\u001b[K\n",
            "Receiving objects: 100% (285/285), 47.41 MiB | 20.21 MiB/s, done.\n",
            "Resolving deltas: 100% (85/85), done.\n",
            "Cloning into 'JetsonYoloV7-TensorRT'...\n",
            "remote: Enumerating objects: 98, done.\u001b[K\n",
            "remote: Counting objects: 100% (98/98), done.\u001b[K\n",
            "remote: Compressing objects: 100% (92/92), done.\u001b[K\n",
            "remote: Total 98 (delta 4), reused 93 (delta 3), pack-reused 0\u001b[K\n",
            "Unpacking objects: 100% (98/98), 24.91 MiB | 10.87 MiB/s, done.\n"
          ]
        }
      ],
      "source": [
        "!git clone https://github.com/mailrocketsystems/JetsonYolov5\n",
        "!git clone https://github.com/mailrocketsystems/JetsonYoloV7-TensorRT"
      ]
    },
    {
      "cell_type": "code",
      "execution_count": null,
      "metadata": {
        "colab": {
          "base_uri": "https://localhost:8080/"
        },
        "id": "RPovkUo5Z31n",
        "outputId": "a92d9004-abb2-4058-eea1-15f932b4159d"
      },
      "outputs": [
        {
          "name": "stdout",
          "output_type": "stream",
          "text": [
            "/usr/local/lib/python3.10/dist-packages/gdown/cli.py:121: FutureWarning: Option `--id` was deprecated in version 4.3.1 and will be removed in 5.0. You don't need to pass it anymore to use a file ID.\n",
            "  warnings.warn(\n",
            "Downloading...\n",
            "From: https://drive.google.com/uc?id=1McRd--fuvugXZi1izeWhxfLHNKCTBrHN\n",
            "To: /content/best.pt\n",
            "100% 12.3M/12.3M [00:00<00:00, 32.2MB/s]\n"
          ]
        }
      ],
      "source": [
        "#down weights\n",
        "!gdown --id 1McRd--fuvugXZi1izeWhxfLHNKCTBrHN #v7 tiny"
      ]
    },
    {
      "cell_type": "code",
      "execution_count": null,
      "metadata": {
        "colab": {
          "base_uri": "https://localhost:8080/"
        },
        "id": "-D2dB8_2vV5_",
        "outputId": "eac0ef61-9fa9-4908-9774-67347fa979a2"
      },
      "outputs": [
        {
          "name": "stdout",
          "output_type": "stream",
          "text": [
            "/content/JetsonYolov5\n"
          ]
        }
      ],
      "source": [
        "%cd /content/JetsonYolov5"
      ]
    },
    {
      "cell_type": "code",
      "execution_count": null,
      "metadata": {
        "colab": {
          "base_uri": "https://localhost:8080/"
        },
        "id": "eBpd14fuZlvC",
        "outputId": "4cd3f0fc-b18c-4b37-f1cb-bce6f458d50e"
      },
      "outputs": [
        {
          "name": "stdout",
          "output_type": "stream",
          "text": [
            "/content/JetsonYoloV7-TensorRT\n"
          ]
        }
      ],
      "source": [
        "%cd /content/JetsonYoloV7-TensorRT"
      ]
    },
    {
      "cell_type": "code",
      "execution_count": null,
      "metadata": {
        "id": "kXMaL91yvY63"
      },
      "outputs": [],
      "source": [
        "!python3 gen_wts.py -w /content/best.pt -o yolov7-tiny.wts\n"
      ]
    },
    {
      "cell_type": "code",
      "execution_count": null,
      "metadata": {
        "id": "-Nq4lC0-ZoKe"
      },
      "outputs": [],
      "source": [
        "!python3 gen_wts.py -w /content/best.pt -o yolov5n.wts"
      ]
    },
    {
      "cell_type": "code",
      "execution_count": null,
      "metadata": {
        "colab": {
          "base_uri": "https://localhost:8080/"
        },
        "id": "Bu5geO-Yvgns",
        "outputId": "172fa51b-dda5-4214-d818-5f57f67ef7b4"
      },
      "outputs": [
        {
          "name": "stdout",
          "output_type": "stream",
          "text": [
            "/content/JetsonYolov5/yolov5\n"
          ]
        }
      ],
      "source": [
        "%cd yolov5"
      ]
    },
    {
      "cell_type": "code",
      "execution_count": null,
      "metadata": {
        "colab": {
          "base_uri": "https://localhost:8080/"
        },
        "id": "jlSqrmebvj3I",
        "outputId": "3728e5da-67a8-4979-8833-36c2fc3f390f"
      },
      "outputs": [
        {
          "name": "stdout",
          "output_type": "stream",
          "text": [
            "/content/JetsonYolov5/yolov5/build\n",
            "-- The C compiler identification is GNU 9.4.0\n",
            "-- The CXX compiler identification is GNU 9.4.0\n",
            "-- Detecting C compiler ABI info\n",
            "-- Detecting C compiler ABI info - done\n",
            "-- Check for working C compiler: /usr/bin/cc - skipped\n",
            "-- Detecting C compile features\n",
            "-- Detecting C compile features - done\n",
            "-- Detecting CXX compiler ABI info\n",
            "-- Detecting CXX compiler ABI info - done\n",
            "-- Check for working CXX compiler: /usr/bin/c++ - skipped\n",
            "-- Detecting CXX compile features\n",
            "-- Detecting CXX compile features - done\n",
            "-- The CUDA compiler identification is NVIDIA 11.8.89\n",
            "-- Detecting CUDA compiler ABI info\n",
            "-- Detecting CUDA compiler ABI info - done\n",
            "-- Check for working CUDA compiler: /usr/local/cuda/bin/nvcc - skipped\n",
            "-- Detecting CUDA compile features\n",
            "-- Detecting CUDA compile features - done\n",
            "-- Found OpenCV: /usr (found version \"4.2.0\") \n",
            "-- Configuring done\n",
            "\u001b[33mCMake Warning (dev) in CMakeLists.txt:\n",
            "  Policy CMP0104 is not set: CMAKE_CUDA_ARCHITECTURES now detected for NVCC,\n",
            "  empty CUDA_ARCHITECTURES not allowed.  Run \"cmake --help-policy CMP0104\"\n",
            "  for policy details.  Use the cmake_policy command to set the policy and\n",
            "  suppress this warning.\n",
            "\n",
            "  CUDA_ARCHITECTURES is empty for target \"myplugins\".\n",
            "This warning is for project developers.  Use -Wno-dev to suppress it.\n",
            "\u001b[0m\n",
            "\u001b[33mCMake Warning (dev) in CMakeLists.txt:\n",
            "  Policy CMP0104 is not set: CMAKE_CUDA_ARCHITECTURES now detected for NVCC,\n",
            "  empty CUDA_ARCHITECTURES not allowed.  Run \"cmake --help-policy CMP0104\"\n",
            "  for policy details.  Use the cmake_policy command to set the policy and\n",
            "  suppress this warning.\n",
            "\n",
            "  CUDA_ARCHITECTURES is empty for target \"myplugins\".\n",
            "This warning is for project developers.  Use -Wno-dev to suppress it.\n",
            "\u001b[0m\n",
            "\u001b[33mCMake Warning (dev) in CMakeLists.txt:\n",
            "  Policy CMP0104 is not set: CMAKE_CUDA_ARCHITECTURES now detected for NVCC,\n",
            "  empty CUDA_ARCHITECTURES not allowed.  Run \"cmake --help-policy CMP0104\"\n",
            "  for policy details.  Use the cmake_policy command to set the policy and\n",
            "  suppress this warning.\n",
            "\n",
            "  CUDA_ARCHITECTURES is empty for target \"yolov5_det\".\n",
            "This warning is for project developers.  Use -Wno-dev to suppress it.\n",
            "\u001b[0m\n",
            "\u001b[33mCMake Warning (dev) in CMakeLists.txt:\n",
            "  Policy CMP0104 is not set: CMAKE_CUDA_ARCHITECTURES now detected for NVCC,\n",
            "  empty CUDA_ARCHITECTURES not allowed.  Run \"cmake --help-policy CMP0104\"\n",
            "  for policy details.  Use the cmake_policy command to set the policy and\n",
            "  suppress this warning.\n",
            "\n",
            "  CUDA_ARCHITECTURES is empty for target \"yolov5_cls\".\n",
            "This warning is for project developers.  Use -Wno-dev to suppress it.\n",
            "\u001b[0m\n",
            "\u001b[33mCMake Warning (dev) in CMakeLists.txt:\n",
            "  Policy CMP0104 is not set: CMAKE_CUDA_ARCHITECTURES now detected for NVCC,\n",
            "  empty CUDA_ARCHITECTURES not allowed.  Run \"cmake --help-policy CMP0104\"\n",
            "  for policy details.  Use the cmake_policy command to set the policy and\n",
            "  suppress this warning.\n",
            "\n",
            "  CUDA_ARCHITECTURES is empty for target \"yolov5_seg\".\n",
            "This warning is for project developers.  Use -Wno-dev to suppress it.\n",
            "\u001b[0m\n",
            "-- Generating done\n",
            "-- Build files have been written to: /content/JetsonYolov5/yolov5/build\n",
            "[  5%] \u001b[32mBuilding CUDA object CMakeFiles/myplugins.dir/plugin/yololayer.cu.o\u001b[0m\n",
            "In file included from \u001b[01m\u001b[K/content/JetsonYolov5/yolov5/plugin/yololayer.h:4\u001b[m\u001b[K,\n",
            "                 from \u001b[01m\u001b[K/content/JetsonYolov5/yolov5/plugin/yololayer.cu:1\u001b[m\u001b[K:\n",
            "\u001b[01m\u001b[K/content/JetsonYolov5/yolov5/src/macros.h:4:10:\u001b[m\u001b[K \u001b[01;31m\u001b[Kfatal error: \u001b[m\u001b[KNvInfer.h: No such file or directory\n",
            "    4 | #include \u001b[01;31m\u001b[K<NvInfer.h>\u001b[m\u001b[K\n",
            "      |          \u001b[01;31m\u001b[K^~~~~~~~~~~\u001b[m\u001b[K\n",
            "compilation terminated.\n",
            "make[2]: *** [CMakeFiles/myplugins.dir/build.make:77: CMakeFiles/myplugins.dir/plugin/yololayer.cu.o] Error 1\n",
            "make[1]: *** [CMakeFiles/Makefile2:89: CMakeFiles/myplugins.dir/all] Error 2\n",
            "make: *** [Makefile:91: all] Error 2\n"
          ]
        }
      ],
      "source": [
        "!mkdir build\n",
        "%cd build\n",
        "!cp ../../yolov5s.wts .\n",
        "!cmake ..\n",
        "!make"
      ]
    },
    {
      "cell_type": "markdown",
      "metadata": {
        "id": "Z6jXogcwxpaY"
      },
      "source": [
        "# Yolov4"
      ]
    },
    {
      "cell_type": "code",
      "execution_count": null,
      "metadata": {
        "colab": {
          "background_save": true,
          "base_uri": "https://localhost:8080/"
        },
        "id": "iwI1cBNmznao",
        "outputId": "9b370551-82a5-464c-a5cc-de39e8229937"
      },
      "outputs": [
        {
          "name": "stdout",
          "output_type": "stream",
          "text": [
            "Looking in indexes: https://pypi.org/simple, https://us-python.pkg.dev/colab-wheels/public/simple/\n",
            "Collecting tensorrt\n",
            "  Downloading tensorrt-8.6.1.tar.gz (16 kB)\n",
            "  Preparing metadata (setup.py) ... \u001b[?25l\u001b[?25hdone\n",
            "Building wheels for collected packages: tensorrt\n",
            "  Building wheel for tensorrt (setup.py) ... \u001b[?25l\u001b[?25hdone\n",
            "  Created wheel for tensorrt: filename=tensorrt-8.6.1-py2.py3-none-any.whl size=16973 sha256=dc80e91e675f97a0daa1e9456e5ff76656b042f719db85f08a228a8bcab371b7\n",
            "  Stored in directory: /root/.cache/pip/wheels/6d/29/56/abdffd4c604f255b5254bef3f1c598ab7811ea020540599438\n",
            "Successfully built tensorrt\n",
            "Installing collected packages: tensorrt\n",
            "Successfully installed tensorrt-8.6.1\n"
          ]
        }
      ],
      "source": [
        "!pip install tensorrt"
      ]
    },
    {
      "cell_type": "code",
      "execution_count": null,
      "metadata": {
        "id": "82fVDvCyx1av",
        "colab": {
          "base_uri": "https://localhost:8080/"
        },
        "outputId": "10ef48df-e0cf-4852-e8fd-68e4d96d7288"
      },
      "outputs": [
        {
          "output_type": "stream",
          "name": "stdout",
          "text": [
            "Looking in indexes: https://pypi.org/simple, https://us-python.pkg.dev/colab-wheels/public/simple/\n",
            "Collecting onnx\n",
            "  Downloading onnx-1.14.0-cp310-cp310-manylinux_2_17_x86_64.manylinux2014_x86_64.whl (14.6 MB)\n",
            "\u001b[2K     \u001b[90m━━━━━━━━━━━━━━━━━━━━━━━━━━━━━━━━━━━━━━━━\u001b[0m \u001b[32m14.6/14.6 MB\u001b[0m \u001b[31m65.7 MB/s\u001b[0m eta \u001b[36m0:00:00\u001b[0m\n",
            "\u001b[?25hRequirement already satisfied: numpy in /usr/local/lib/python3.10/dist-packages (from onnx) (1.22.4)\n",
            "Requirement already satisfied: protobuf>=3.20.2 in /usr/local/lib/python3.10/dist-packages (from onnx) (3.20.3)\n",
            "Requirement already satisfied: typing-extensions>=3.6.2.1 in /usr/local/lib/python3.10/dist-packages (from onnx) (4.5.0)\n",
            "Installing collected packages: onnx\n",
            "Successfully installed onnx-1.14.0\n"
          ]
        }
      ],
      "source": [
        "!pip install onnx"
      ]
    },
    {
      "cell_type": "code",
      "execution_count": null,
      "metadata": {
        "id": "px0dzHzYxquG",
        "colab": {
          "base_uri": "https://localhost:8080/"
        },
        "outputId": "ae155e8b-5d4d-44e3-be72-5a2a7bb725b7"
      },
      "outputs": [
        {
          "output_type": "stream",
          "name": "stdout",
          "text": [
            "Cloning into 'tensorrt_demos'...\n",
            "remote: Enumerating objects: 1734, done.\u001b[K\n",
            "remote: Counting objects: 100% (804/804), done.\u001b[K\n",
            "remote: Compressing objects: 100% (121/121), done.\u001b[K\n",
            "remote: Total 1734 (delta 708), reused 683 (delta 683), pack-reused 930\u001b[K\n",
            "Receiving objects: 100% (1734/1734), 213.05 MiB | 26.18 MiB/s, done.\n",
            "Resolving deltas: 100% (1102/1102), done.\n",
            "Updating files: 100% (109/109), done.\n",
            "--2023-06-20 07:44:58--  https://raw.githubusercontent.com/jkjung-avt/yolov4_crowdhuman/master/cfg/yolov4-crowdhuman-416x416.cfg\n",
            "Resolving raw.githubusercontent.com (raw.githubusercontent.com)... 185.199.108.133, 185.199.109.133, 185.199.110.133, ...\n",
            "Connecting to raw.githubusercontent.com (raw.githubusercontent.com)|185.199.108.133|:443... connected.\n",
            "HTTP request sent, awaiting response... 200 OK\n",
            "Length: 12281 (12K) [text/plain]\n",
            "Saving to: ‘yolov4-crowdhuman-416x416.cfg’\n",
            "\n",
            "yolov4-crowdhuman-4 100%[===================>]  11.99K  --.-KB/s    in 0s      \n",
            "\n",
            "2023-06-20 07:44:58 (77.8 MB/s) - ‘yolov4-crowdhuman-416x416.cfg’ saved [12281/12281]\n",
            "\n"
          ]
        }
      ],
      "source": [
        "!git clone https://github.com/jkjung-avt/tensorrt_demos\n",
        "!wget https://raw.githubusercontent.com/jkjung-avt/yolov4_crowdhuman/master/cfg/yolov4-crowdhuman-416x416.cfg"
      ]
    },
    {
      "cell_type": "code",
      "source": [
        "!gdown --id 1-7FZ8utBJS_YjmOoN_OUA5Oq1hS2UgH-\n",
        "!gdown --id 1-2pUEblPKSpHTG8bHMH_e-B1kGetnNjQ"
      ],
      "metadata": {
        "colab": {
          "base_uri": "https://localhost:8080/"
        },
        "id": "SBRseI0Mw6oE",
        "outputId": "cb8b88b2-bb9b-4b2c-ed6d-73ebe2ad8f5e"
      },
      "execution_count": null,
      "outputs": [
        {
          "output_type": "stream",
          "name": "stdout",
          "text": [
            "/usr/local/lib/python3.10/dist-packages/gdown/cli.py:121: FutureWarning: Option `--id` was deprecated in version 4.3.1 and will be removed in 5.0. You don't need to pass it anymore to use a file ID.\n",
            "  warnings.warn(\n",
            "Downloading...\n",
            "From: https://drive.google.com/uc?id=1-7FZ8utBJS_YjmOoN_OUA5Oq1hS2UgH-\n",
            "To: /content/yolov4-tiny-custom_best.weights\n",
            "100% 23.5M/23.5M [00:00<00:00, 103MB/s]\n",
            "/usr/local/lib/python3.10/dist-packages/gdown/cli.py:121: FutureWarning: Option `--id` was deprecated in version 4.3.1 and will be removed in 5.0. You don't need to pass it anymore to use a file ID.\n",
            "  warnings.warn(\n",
            "Downloading...\n",
            "From: https://drive.google.com/uc?id=1-2pUEblPKSpHTG8bHMH_e-B1kGetnNjQ\n",
            "To: /content/yolov4-tiny-custom.cfg\n",
            "100% 3.02k/3.02k [00:00<00:00, 11.6MB/s]\n"
          ]
        }
      ]
    },
    {
      "cell_type": "code",
      "execution_count": null,
      "metadata": {
        "id": "Supk5ynDx4QH"
      },
      "outputs": [],
      "source": [
        "%cd /content/tensorrt_demos/yolo/\n",
        "!wget https://raw.githubusercontent.com/jkjung-avt/yolov4_crowdhuman/master/cfg/yolov4-crowdhuman-416x416.cfg"
      ]
    },
    {
      "cell_type": "code",
      "execution_count": null,
      "metadata": {
        "id": "VRQu_Ni9yX6b"
      },
      "outputs": [],
      "source": [
        "%cd /content/tensorrt_demos/yolo/\n",
        "!bash download_yolo.sh"
      ]
    },
    {
      "cell_type": "code",
      "source": [
        "%cd /content\n",
        "!unzip /content/libyolo_layer.so.zip"
      ],
      "metadata": {
        "colab": {
          "base_uri": "https://localhost:8080/"
        },
        "id": "sYH01F1B4ShB",
        "outputId": "3ef7092b-d702-42f4-b97c-2a93322b5aba"
      },
      "execution_count": null,
      "outputs": [
        {
          "output_type": "stream",
          "name": "stdout",
          "text": [
            "/content\n",
            "Archive:  /content/libyolo_layer.so.zip\n",
            "replace libyolo_layer.so? [y]es, [n]o, [A]ll, [N]one, [r]ename: "
          ]
        }
      ]
    },
    {
      "cell_type": "code",
      "execution_count": null,
      "metadata": {
        "id": "UzJWfStJzM2I",
        "colab": {
          "base_uri": "https://localhost:8080/"
        },
        "outputId": "e267a515-33d9-436f-a715-300639691f1b"
      },
      "outputs": [
        {
          "output_type": "stream",
          "name": "stdout",
          "text": [
            "/content/tensorrt_demos/yolo\n",
            "Parsing DarkNet cfg file...\n",
            "Traceback (most recent call last):\n",
            "  File \"/content/tensorrt_demos/yolo/yolo_to_onnx.py\", line 1065, in <module>\n",
            "    main()\n",
            "  File \"/content/tensorrt_demos/yolo/yolo_to_onnx.py\", line 1024, in main\n",
            "    layer_configs = parser.parse_cfg_file(cfg_file_path)\n",
            "  File \"/content/tensorrt_demos/yolo/yolo_to_onnx.py\", line 203, in parse_cfg_file\n",
            "    layer_dict, layer_name, remainder = self._next_layer(remainder)\n",
            "  File \"/content/tensorrt_demos/yolo/yolo_to_onnx.py\", line 267, in _next_layer\n",
            "    param_type, param_value = self._parse_params(param_line, skip_params)\n",
            "  File \"/content/tensorrt_demos/yolo/yolo_to_onnx.py\", line 297, in _parse_params\n",
            "    param_value = float(param_value_raw)\n",
            "ValueError: could not convert string to float: '27s'\n"
          ]
        }
      ],
      "source": [
        "%cd /content/tensorrt_demos/yolo/\n",
        "!python yolo_to_onnx.py -c 4 -m yolov4-tiny-custom"
      ]
    },
    {
      "cell_type": "code",
      "execution_count": null,
      "metadata": {
        "colab": {
          "background_save": true
        },
        "id": "A4bedkzizh0B",
        "outputId": "fefb9f7b-d2b3-48e1-f673-6c8910d68c88"
      },
      "outputs": [
        {
          "name": "stdout",
          "output_type": "stream",
          "text": [
            "ERROR: failed to load ../plugins/libyolo_layer.so.  Did you forget to do a \"make\" in the \"../plugins/\" subdirectory?\n"
          ]
        }
      ],
      "source": [
        "!2"
      ]
    }
  ],
  "metadata": {
    "accelerator": "GPU",
    "colab": {
      "provenance": []
    },
    "kernelspec": {
      "display_name": "Python 3",
      "name": "python3"
    },
    "language_info": {
      "name": "python"
    }
  },
  "nbformat": 4,
  "nbformat_minor": 0
}